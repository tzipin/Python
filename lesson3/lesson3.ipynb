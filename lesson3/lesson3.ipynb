{
 "cells": [
  {
   "cell_type": "code",
   "execution_count": 2,
   "id": "82e59cb4-15d8-41bd-9998-a3fd63b51f50",
   "metadata": {},
   "outputs": [
    {
     "name": "stdout",
     "output_type": "stream",
     "text": [
      "Requirement already satisfied: numpy in c:\\users\\user\\appdata\\local\\programs\\python\\python311\\lib\\site-packages (2.2.5)\n",
      "Note: you may need to restart the kernel to use updated packages.\n"
     ]
    },
    {
     "name": "stderr",
     "output_type": "stream",
     "text": [
      "\n",
      "[notice] A new release of pip available: 22.3.1 -> 25.1.1\n",
      "[notice] To update, run: python.exe -m pip install --upgrade pip\n"
     ]
    }
   ],
   "source": [
    "pip install numpy"
   ]
  },
  {
   "cell_type": "code",
   "execution_count": 3,
   "id": "2bc4dafe-86e1-4d0d-b8f5-95987d8eb01b",
   "metadata": {},
   "outputs": [],
   "source": [
    "import numpy as np"
   ]
  },
  {
   "cell_type": "code",
   "execution_count": 4,
   "id": "18b4a75a-c037-4ae7-856b-ada63d15c31c",
   "metadata": {},
   "outputs": [
    {
     "data": {
      "text/plain": [
       "array([31, 46, 27, 26, 33, 22, 20,  5, 32, 42], dtype=int32)"
      ]
     },
     "execution_count": 4,
     "metadata": {},
     "output_type": "execute_result"
    }
   ],
   "source": [
    "array = np.random.randint(1, 50, size = (10))\n",
    "array"
   ]
  },
  {
   "cell_type": "code",
   "execution_count": 5,
   "id": "7f41e149-9956-45d4-bcf9-c2aae26a8bbc",
   "metadata": {},
   "outputs": [
    {
     "data": {
      "text/plain": [
       "np.float64(28.4)"
      ]
     },
     "execution_count": 5,
     "metadata": {},
     "output_type": "execute_result"
    }
   ],
   "source": [
    "num = np.mean(array)\n",
    "num"
   ]
  },
  {
   "cell_type": "code",
   "execution_count": 6,
   "id": "cd01efca-33a8-4d5d-be7e-11a3b2009820",
   "metadata": {},
   "outputs": [
    {
     "data": {
      "text/plain": [
       "array([[8, 1, 2],\n",
       "       [2, 4, 8]], dtype=int32)"
      ]
     },
     "execution_count": 6,
     "metadata": {},
     "output_type": "execute_result"
    }
   ],
   "source": [
    "array1 = np.random.randint(1, 10, size = (2,3))\n",
    "array1"
   ]
  },
  {
   "cell_type": "code",
   "execution_count": 7,
   "id": "1c44689a-8a39-4b98-abce-06d369e437dd",
   "metadata": {},
   "outputs": [
    {
     "data": {
      "text/plain": [
       "array([[3, 4, 3],\n",
       "       [1, 9, 2]], dtype=int32)"
      ]
     },
     "execution_count": 7,
     "metadata": {},
     "output_type": "execute_result"
    }
   ],
   "source": [
    "array2 = np.random.randint(1, 10, size = (2,3))\n",
    "array2"
   ]
  },
  {
   "cell_type": "code",
   "execution_count": 8,
   "id": "cbc99b4a-5ea0-419b-8891-ac31f95ed0e3",
   "metadata": {},
   "outputs": [
    {
     "data": {
      "text/plain": [
       "array([[11,  5,  5],\n",
       "       [ 3, 13, 10]], dtype=int32)"
      ]
     },
     "execution_count": 8,
     "metadata": {},
     "output_type": "execute_result"
    }
   ],
   "source": [
    "new_array = np.add(array1, array2)\n",
    "new_array"
   ]
  },
  {
   "cell_type": "code",
   "execution_count": 10,
   "id": "9c2e5743-33fb-4776-bd86-d5eccc901287",
   "metadata": {},
   "outputs": [
    {
     "data": {
      "text/plain": [
       "array([31, 61, 93, 79,  4, 16, 62, 40, 20, 10, 87, 38, 89, 28, 92, 28, 62,\n",
       "       65, 94, 12], dtype=int32)"
      ]
     },
     "execution_count": 10,
     "metadata": {},
     "output_type": "execute_result"
    }
   ],
   "source": [
    "array3 = np.random.randint(1, 100, size = (20)) \n",
    "array3"
   ]
  },
  {
   "cell_type": "code",
   "execution_count": 12,
   "id": "ba08c268-8c51-4195-b1ea-71b912f98b6e",
   "metadata": {},
   "outputs": [
    {
     "data": {
      "text/plain": [
       "10"
      ]
     },
     "execution_count": 12,
     "metadata": {},
     "output_type": "execute_result"
    }
   ],
   "source": [
    "filter_arr = array3[array3 > 50]\n",
    "len(filter_arr)"
   ]
  },
  {
   "cell_type": "code",
   "execution_count": null,
   "id": "41399b4e-fd80-4e11-87f3-2890056ba321",
   "metadata": {},
   "outputs": [],
   "source": []
  }
 ],
 "metadata": {
  "kernelspec": {
   "display_name": "Python 3 (ipykernel)",
   "language": "python",
   "name": "python3"
  },
  "language_info": {
   "codemirror_mode": {
    "name": "ipython",
    "version": 3
   },
   "file_extension": ".py",
   "mimetype": "text/x-python",
   "name": "python",
   "nbconvert_exporter": "python",
   "pygments_lexer": "ipython3",
   "version": "3.11.1"
  }
 },
 "nbformat": 4,
 "nbformat_minor": 5
}
